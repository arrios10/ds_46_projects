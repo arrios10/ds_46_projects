{
 "cells": [
  {
   "cell_type": "markdown",
   "metadata": {},
   "source": [
    "# IMPORTS"
   ]
  },
  {
   "cell_type": "code",
   "execution_count": 59,
   "metadata": {},
   "outputs": [],
   "source": [
    "import pandas as pd\n",
    "import numpy as np\n",
    "import matplotlib.pyplot as plt\n",
    "import seaborn as sns\n",
    "from matplotlib.colors import ListedColormap\n",
    "\n",
    "%matplotlib inline"
   ]
  },
  {
   "cell_type": "markdown",
   "metadata": {},
   "source": [
    "# Read in CSV"
   ]
  },
  {
   "cell_type": "code",
   "execution_count": 8,
   "metadata": {},
   "outputs": [],
   "source": [
    "df = pd.read_csv('beers.csv', index_col=0)"
   ]
  },
  {
   "cell_type": "markdown",
   "metadata": {},
   "source": [
    "# Check the head of the dataframe"
   ]
  },
  {
   "cell_type": "code",
   "execution_count": 9,
   "metadata": {},
   "outputs": [
    {
     "data": {
      "text/html": [
       "<div>\n",
       "<style scoped>\n",
       "    .dataframe tbody tr th:only-of-type {\n",
       "        vertical-align: middle;\n",
       "    }\n",
       "\n",
       "    .dataframe tbody tr th {\n",
       "        vertical-align: top;\n",
       "    }\n",
       "\n",
       "    .dataframe thead th {\n",
       "        text-align: right;\n",
       "    }\n",
       "</style>\n",
       "<table border=\"1\" class=\"dataframe\">\n",
       "  <thead>\n",
       "    <tr style=\"text-align: right;\">\n",
       "      <th></th>\n",
       "      <th>abv</th>\n",
       "      <th>ibu</th>\n",
       "      <th>id</th>\n",
       "      <th>name</th>\n",
       "      <th>style</th>\n",
       "      <th>brewery_id</th>\n",
       "      <th>ounces</th>\n",
       "    </tr>\n",
       "  </thead>\n",
       "  <tbody>\n",
       "    <tr>\n",
       "      <th>0</th>\n",
       "      <td>0.050</td>\n",
       "      <td>NaN</td>\n",
       "      <td>1436</td>\n",
       "      <td>Pub Beer</td>\n",
       "      <td>American Pale Lager</td>\n",
       "      <td>408</td>\n",
       "      <td>12.0</td>\n",
       "    </tr>\n",
       "    <tr>\n",
       "      <th>1</th>\n",
       "      <td>0.066</td>\n",
       "      <td>NaN</td>\n",
       "      <td>2265</td>\n",
       "      <td>Devil's Cup</td>\n",
       "      <td>American Pale Ale (APA)</td>\n",
       "      <td>177</td>\n",
       "      <td>12.0</td>\n",
       "    </tr>\n",
       "    <tr>\n",
       "      <th>2</th>\n",
       "      <td>0.071</td>\n",
       "      <td>NaN</td>\n",
       "      <td>2264</td>\n",
       "      <td>Rise of the Phoenix</td>\n",
       "      <td>American IPA</td>\n",
       "      <td>177</td>\n",
       "      <td>12.0</td>\n",
       "    </tr>\n",
       "    <tr>\n",
       "      <th>3</th>\n",
       "      <td>0.090</td>\n",
       "      <td>NaN</td>\n",
       "      <td>2263</td>\n",
       "      <td>Sinister</td>\n",
       "      <td>American Double / Imperial IPA</td>\n",
       "      <td>177</td>\n",
       "      <td>12.0</td>\n",
       "    </tr>\n",
       "    <tr>\n",
       "      <th>4</th>\n",
       "      <td>0.075</td>\n",
       "      <td>NaN</td>\n",
       "      <td>2262</td>\n",
       "      <td>Sex and Candy</td>\n",
       "      <td>American IPA</td>\n",
       "      <td>177</td>\n",
       "      <td>12.0</td>\n",
       "    </tr>\n",
       "  </tbody>\n",
       "</table>\n",
       "</div>"
      ],
      "text/plain": [
       "     abv  ibu    id  ...                           style brewery_id  ounces\n",
       "0  0.050  NaN  1436  ...             American Pale Lager        408    12.0\n",
       "1  0.066  NaN  2265  ...         American Pale Ale (APA)        177    12.0\n",
       "2  0.071  NaN  2264  ...                    American IPA        177    12.0\n",
       "3  0.090  NaN  2263  ...  American Double / Imperial IPA        177    12.0\n",
       "4  0.075  NaN  2262  ...                    American IPA        177    12.0\n",
       "\n",
       "[5 rows x 7 columns]"
      ]
     },
     "execution_count": 9,
     "metadata": {},
     "output_type": "execute_result"
    }
   ],
   "source": [
    "df.head()"
   ]
  },
  {
   "cell_type": "markdown",
   "metadata": {},
   "source": [
    "# Check Dataframe Summary"
   ]
  },
  {
   "cell_type": "code",
   "execution_count": 12,
   "metadata": {},
   "outputs": [
    {
     "name": "stdout",
     "output_type": "stream",
     "text": [
      "<class 'pandas.core.frame.DataFrame'>\n",
      "Int64Index: 2410 entries, 0 to 2409\n",
      "Data columns (total 7 columns):\n",
      " #   Column      Non-Null Count  Dtype  \n",
      "---  ------      --------------  -----  \n",
      " 0   abv         2348 non-null   float64\n",
      " 1   ibu         1405 non-null   float64\n",
      " 2   id          2410 non-null   int64  \n",
      " 3   name        2410 non-null   object \n",
      " 4   style       2405 non-null   object \n",
      " 5   brewery_id  2410 non-null   int64  \n",
      " 6   ounces      2410 non-null   float64\n",
      "dtypes: float64(3), int64(2), object(2)\n",
      "memory usage: 230.6+ KB\n"
     ]
    }
   ],
   "source": [
    "df.info()"
   ]
  },
  {
   "cell_type": "markdown",
   "metadata": {},
   "source": [
    "Many 'ibu' nulls, 5 'style'nulls"
   ]
  },
  {
   "cell_type": "markdown",
   "metadata": {},
   "source": [
    "# Work on Nulls"
   ]
  },
  {
   "cell_type": "code",
   "execution_count": 13,
   "metadata": {},
   "outputs": [
    {
     "data": {
      "text/html": [
       "<div>\n",
       "<style scoped>\n",
       "    .dataframe tbody tr th:only-of-type {\n",
       "        vertical-align: middle;\n",
       "    }\n",
       "\n",
       "    .dataframe tbody tr th {\n",
       "        vertical-align: top;\n",
       "    }\n",
       "\n",
       "    .dataframe thead th {\n",
       "        text-align: right;\n",
       "    }\n",
       "</style>\n",
       "<table border=\"1\" class=\"dataframe\">\n",
       "  <thead>\n",
       "    <tr style=\"text-align: right;\">\n",
       "      <th></th>\n",
       "      <th>abv</th>\n",
       "      <th>ibu</th>\n",
       "      <th>id</th>\n",
       "      <th>name</th>\n",
       "      <th>style</th>\n",
       "      <th>brewery_id</th>\n",
       "      <th>ounces</th>\n",
       "    </tr>\n",
       "  </thead>\n",
       "  <tbody>\n",
       "    <tr>\n",
       "      <th>0</th>\n",
       "      <td>0.050</td>\n",
       "      <td>NaN</td>\n",
       "      <td>1436</td>\n",
       "      <td>Pub Beer</td>\n",
       "      <td>American Pale Lager</td>\n",
       "      <td>408</td>\n",
       "      <td>12.0</td>\n",
       "    </tr>\n",
       "    <tr>\n",
       "      <th>1</th>\n",
       "      <td>0.066</td>\n",
       "      <td>NaN</td>\n",
       "      <td>2265</td>\n",
       "      <td>Devil's Cup</td>\n",
       "      <td>American Pale Ale (APA)</td>\n",
       "      <td>177</td>\n",
       "      <td>12.0</td>\n",
       "    </tr>\n",
       "    <tr>\n",
       "      <th>2</th>\n",
       "      <td>0.071</td>\n",
       "      <td>NaN</td>\n",
       "      <td>2264</td>\n",
       "      <td>Rise of the Phoenix</td>\n",
       "      <td>American IPA</td>\n",
       "      <td>177</td>\n",
       "      <td>12.0</td>\n",
       "    </tr>\n",
       "    <tr>\n",
       "      <th>3</th>\n",
       "      <td>0.090</td>\n",
       "      <td>NaN</td>\n",
       "      <td>2263</td>\n",
       "      <td>Sinister</td>\n",
       "      <td>American Double / Imperial IPA</td>\n",
       "      <td>177</td>\n",
       "      <td>12.0</td>\n",
       "    </tr>\n",
       "    <tr>\n",
       "      <th>4</th>\n",
       "      <td>0.075</td>\n",
       "      <td>NaN</td>\n",
       "      <td>2262</td>\n",
       "      <td>Sex and Candy</td>\n",
       "      <td>American IPA</td>\n",
       "      <td>177</td>\n",
       "      <td>12.0</td>\n",
       "    </tr>\n",
       "    <tr>\n",
       "      <th>...</th>\n",
       "      <td>...</td>\n",
       "      <td>...</td>\n",
       "      <td>...</td>\n",
       "      <td>...</td>\n",
       "      <td>...</td>\n",
       "      <td>...</td>\n",
       "      <td>...</td>\n",
       "    </tr>\n",
       "    <tr>\n",
       "      <th>2403</th>\n",
       "      <td>0.055</td>\n",
       "      <td>NaN</td>\n",
       "      <td>1045</td>\n",
       "      <td>Wynkoop Pumpkin Ale</td>\n",
       "      <td>Pumpkin Ale</td>\n",
       "      <td>424</td>\n",
       "      <td>12.0</td>\n",
       "    </tr>\n",
       "    <tr>\n",
       "      <th>2404</th>\n",
       "      <td>0.075</td>\n",
       "      <td>NaN</td>\n",
       "      <td>1035</td>\n",
       "      <td>Rocky Mountain Oyster Stout</td>\n",
       "      <td>American Stout</td>\n",
       "      <td>424</td>\n",
       "      <td>12.0</td>\n",
       "    </tr>\n",
       "    <tr>\n",
       "      <th>2406</th>\n",
       "      <td>0.052</td>\n",
       "      <td>NaN</td>\n",
       "      <td>807</td>\n",
       "      <td>Rail Yard Ale</td>\n",
       "      <td>American Amber / Red Ale</td>\n",
       "      <td>424</td>\n",
       "      <td>12.0</td>\n",
       "    </tr>\n",
       "    <tr>\n",
       "      <th>2407</th>\n",
       "      <td>0.055</td>\n",
       "      <td>NaN</td>\n",
       "      <td>620</td>\n",
       "      <td>B3K Black Lager</td>\n",
       "      <td>Schwarzbier</td>\n",
       "      <td>424</td>\n",
       "      <td>12.0</td>\n",
       "    </tr>\n",
       "    <tr>\n",
       "      <th>2409</th>\n",
       "      <td>0.052</td>\n",
       "      <td>NaN</td>\n",
       "      <td>84</td>\n",
       "      <td>Rail Yard Ale (2009)</td>\n",
       "      <td>American Amber / Red Ale</td>\n",
       "      <td>424</td>\n",
       "      <td>12.0</td>\n",
       "    </tr>\n",
       "  </tbody>\n",
       "</table>\n",
       "<p>1005 rows × 7 columns</p>\n",
       "</div>"
      ],
      "text/plain": [
       "        abv  ibu    id  ...                           style brewery_id  ounces\n",
       "0     0.050  NaN  1436  ...             American Pale Lager        408    12.0\n",
       "1     0.066  NaN  2265  ...         American Pale Ale (APA)        177    12.0\n",
       "2     0.071  NaN  2264  ...                    American IPA        177    12.0\n",
       "3     0.090  NaN  2263  ...  American Double / Imperial IPA        177    12.0\n",
       "4     0.075  NaN  2262  ...                    American IPA        177    12.0\n",
       "...     ...  ...   ...  ...                             ...        ...     ...\n",
       "2403  0.055  NaN  1045  ...                     Pumpkin Ale        424    12.0\n",
       "2404  0.075  NaN  1035  ...                  American Stout        424    12.0\n",
       "2406  0.052  NaN   807  ...        American Amber / Red Ale        424    12.0\n",
       "2407  0.055  NaN   620  ...                     Schwarzbier        424    12.0\n",
       "2409  0.052  NaN    84  ...        American Amber / Red Ale        424    12.0\n",
       "\n",
       "[1005 rows x 7 columns]"
      ]
     },
     "execution_count": 13,
     "metadata": {},
     "output_type": "execute_result"
    }
   ],
   "source": [
    "null_IBU = beers[beers['ibu'].isnull()]\n",
    "null_IBU.head()"
   ]
  },
  {
   "cell_type": "markdown",
   "metadata": {},
   "source": [
    "Found some IBU data on Google, manually adding the IBU below"
   ]
  },
  {
   "cell_type": "code",
   "execution_count": 18,
   "metadata": {},
   "outputs": [],
   "source": [
    "df.at[0,'ibu']= 14.0\n",
    "df.at[628,'ibu']= 29.0\n",
    "df.at[1362,'ibu']= 23.0\n",
    "df.at[345,'ibu']= 19.0\n",
    "df.at[1759,'ibu']= 24.0\n",
    "df.at[2070,'ibu']= 15.0\n",
    "df.at[1626,'ibu']= 35.0\n",
    "df.at[1415,'ibu']= 18.0\n",
    "df.at[626,'ibu']= 36.0\n",
    "df.at[358,'ibu']= 22.0\n",
    "df.at[1069,'ibu']= 18.0\n",
    "df.at[2407,'ibu']= 18.0\n",
    "df.at[1273,'ibu']= 40.0\n",
    "df.at[1930,'ibu']= 17.0\n",
    "df.at[922,'ibu']= 25.0\n",
    "df.at[235,'ibu']= 17.0\n",
    "df.at[1615,'ibu']= 19.0\n",
    "df.at[1692,'ibu']= 25.0\n",
    "df.at[1502,'ibu']= 20.0\n",
    "df.at[327,'ibu']= 24.0\n",
    "df.at[1416,'ibu']= 11.0\n",
    "df.at[623,'ibu']= 14.0\n",
    "df.at[298,'ibu']= 21.0\n",
    "df.at[748,'ibu']= 10.0\n",
    "df.at[1765,'ibu']= 10.0\n",
    "df.at[426,'ibu']= 33.0\n",
    "df.at[2381,'ibu']= 30.0\n",
    "df.at[1664,'ibu']= 23.0\n",
    "df.at[643,'ibu']= 17.0\n",
    "df.at[1544,'ibu']= 29.0\n",
    "df.at[541,'ibu']= 28.0\n",
    "df.at[186,'ibu']= 17.0\n",
    "df.at[541,'abv']= 0.052"
   ]
  },
  {
   "cell_type": "markdown",
   "metadata": {},
   "source": [
    "# Dropping the rest of the Nulls"
   ]
  },
  {
   "cell_type": "code",
   "execution_count": 19,
   "metadata": {},
   "outputs": [],
   "source": [
    "mask = df[df['ibu'].notnull()]"
   ]
  },
  {
   "cell_type": "code",
   "execution_count": 44,
   "metadata": {},
   "outputs": [],
   "source": [
    "df = mask[mask['style'].notnull()]"
   ]
  },
  {
   "cell_type": "markdown",
   "metadata": {},
   "source": [
    "# Checking Summary Again"
   ]
  },
  {
   "cell_type": "code",
   "execution_count": 45,
   "metadata": {},
   "outputs": [
    {
     "name": "stdout",
     "output_type": "stream",
     "text": [
      "<class 'pandas.core.frame.DataFrame'>\n",
      "Int64Index: 1435 entries, 0 to 2408\n",
      "Data columns (total 7 columns):\n",
      " #   Column      Non-Null Count  Dtype  \n",
      "---  ------      --------------  -----  \n",
      " 0   abv         1435 non-null   float64\n",
      " 1   ibu         1435 non-null   float64\n",
      " 2   id          1435 non-null   int64  \n",
      " 3   name        1435 non-null   object \n",
      " 4   style       1435 non-null   object \n",
      " 5   brewery_id  1435 non-null   int64  \n",
      " 6   ounces      1435 non-null   float64\n",
      "dtypes: float64(3), int64(2), object(2)\n",
      "memory usage: 89.7+ KB\n"
     ]
    }
   ],
   "source": [
    "df.info()"
   ]
  },
  {
   "cell_type": "markdown",
   "metadata": {},
   "source": [
    "# Creating name+style Column"
   ]
  },
  {
   "cell_type": "code",
   "execution_count": 46,
   "metadata": {},
   "outputs": [
    {
     "name": "stderr",
     "output_type": "stream",
     "text": [
      "<ipython-input-46-c8475ab09aea>:1: SettingWithCopyWarning: \n",
      "A value is trying to be set on a copy of a slice from a DataFrame.\n",
      "Try using .loc[row_indexer,col_indexer] = value instead\n",
      "\n",
      "See the caveats in the documentation: https://pandas.pydata.org/pandas-docs/stable/user_guide/indexing.html#returning-a-view-versus-a-copy\n",
      "  df['name_style'] = df['name'].str.lower() + df['style'].str.lower()\n"
     ]
    }
   ],
   "source": [
    "df['name_style'] = df['name'].str.lower() + df['style'].str.lower()"
   ]
  },
  {
   "cell_type": "code",
   "execution_count": 47,
   "metadata": {},
   "outputs": [
    {
     "data": {
      "text/html": [
       "<div>\n",
       "<style scoped>\n",
       "    .dataframe tbody tr th:only-of-type {\n",
       "        vertical-align: middle;\n",
       "    }\n",
       "\n",
       "    .dataframe tbody tr th {\n",
       "        vertical-align: top;\n",
       "    }\n",
       "\n",
       "    .dataframe thead th {\n",
       "        text-align: right;\n",
       "    }\n",
       "</style>\n",
       "<table border=\"1\" class=\"dataframe\">\n",
       "  <thead>\n",
       "    <tr style=\"text-align: right;\">\n",
       "      <th></th>\n",
       "      <th>abv</th>\n",
       "      <th>ibu</th>\n",
       "      <th>id</th>\n",
       "      <th>name</th>\n",
       "      <th>style</th>\n",
       "      <th>brewery_id</th>\n",
       "      <th>ounces</th>\n",
       "      <th>name_style</th>\n",
       "    </tr>\n",
       "  </thead>\n",
       "  <tbody>\n",
       "    <tr>\n",
       "      <th>0</th>\n",
       "      <td>0.050</td>\n",
       "      <td>14.0</td>\n",
       "      <td>1436</td>\n",
       "      <td>Pub Beer</td>\n",
       "      <td>American Pale Lager</td>\n",
       "      <td>408</td>\n",
       "      <td>12.0</td>\n",
       "      <td>pub beeramerican pale lager</td>\n",
       "    </tr>\n",
       "    <tr>\n",
       "      <th>14</th>\n",
       "      <td>0.061</td>\n",
       "      <td>60.0</td>\n",
       "      <td>1979</td>\n",
       "      <td>Bitter Bitch</td>\n",
       "      <td>American Pale Ale (APA)</td>\n",
       "      <td>177</td>\n",
       "      <td>12.0</td>\n",
       "      <td>bitter bitchamerican pale ale (apa)</td>\n",
       "    </tr>\n",
       "    <tr>\n",
       "      <th>21</th>\n",
       "      <td>0.099</td>\n",
       "      <td>92.0</td>\n",
       "      <td>1036</td>\n",
       "      <td>Lower De Boom</td>\n",
       "      <td>American Barleywine</td>\n",
       "      <td>368</td>\n",
       "      <td>8.4</td>\n",
       "      <td>lower de boomamerican barleywine</td>\n",
       "    </tr>\n",
       "    <tr>\n",
       "      <th>22</th>\n",
       "      <td>0.079</td>\n",
       "      <td>45.0</td>\n",
       "      <td>1024</td>\n",
       "      <td>Fireside Chat</td>\n",
       "      <td>Winter Warmer</td>\n",
       "      <td>368</td>\n",
       "      <td>12.0</td>\n",
       "      <td>fireside chatwinter warmer</td>\n",
       "    </tr>\n",
       "    <tr>\n",
       "      <th>24</th>\n",
       "      <td>0.044</td>\n",
       "      <td>42.0</td>\n",
       "      <td>876</td>\n",
       "      <td>Bitter American</td>\n",
       "      <td>American Pale Ale (APA)</td>\n",
       "      <td>368</td>\n",
       "      <td>12.0</td>\n",
       "      <td>bitter americanamerican pale ale (apa)</td>\n",
       "    </tr>\n",
       "  </tbody>\n",
       "</table>\n",
       "</div>"
      ],
      "text/plain": [
       "      abv   ibu  ...  ounces                              name_style\n",
       "0   0.050  14.0  ...    12.0             pub beeramerican pale lager\n",
       "14  0.061  60.0  ...    12.0     bitter bitchamerican pale ale (apa)\n",
       "21  0.099  92.0  ...     8.4        lower de boomamerican barleywine\n",
       "22  0.079  45.0  ...    12.0              fireside chatwinter warmer\n",
       "24  0.044  42.0  ...    12.0  bitter americanamerican pale ale (apa)\n",
       "\n",
       "[5 rows x 8 columns]"
      ]
     },
     "execution_count": 47,
     "metadata": {},
     "output_type": "execute_result"
    }
   ],
   "source": [
    "df.head()"
   ]
  },
  {
   "cell_type": "markdown",
   "metadata": {},
   "source": [
    "# Create Beer Super Category"
   ]
  },
  {
   "cell_type": "code",
   "execution_count": 48,
   "metadata": {},
   "outputs": [],
   "source": [
    "ales = ['ale', 'stout', 'porter', 'ipa','dubbel','warmer','altbier','tripel','barleywine','quadrupel','rye','bitter','hefeweizen','witbier','gose','oktoberfest','weissbier']\n",
    "lagers = ['lager', 'pilsner','pilsener', 'bock','schwarzbier','zwickel', 'keller','common','kölsch']\n",
    "\n",
    "#function to find a beers super category by searching the name_style column, and returing the super category  \n",
    "def list_matcher(x):\n",
    "    for i in ales:\n",
    "        if i in x:\n",
    "            return 'ale'\n",
    "    for i in lagers:\n",
    "        if i in x:\n",
    "            return 'lager'\n",
    "        "
   ]
  },
  {
   "cell_type": "markdown",
   "metadata": {},
   "source": [
    "# Work on Nulls"
   ]
  },
  {
   "cell_type": "code",
   "execution_count": 49,
   "metadata": {},
   "outputs": [
    {
     "name": "stderr",
     "output_type": "stream",
     "text": [
      "<ipython-input-49-bcf2b074f893>:1: SettingWithCopyWarning: \n",
      "A value is trying to be set on a copy of a slice from a DataFrame.\n",
      "Try using .loc[row_indexer,col_indexer] = value instead\n",
      "\n",
      "See the caveats in the documentation: https://pandas.pydata.org/pandas-docs/stable/user_guide/indexing.html#returning-a-view-versus-a-copy\n",
      "  df['super_category'] = df['name_style'].apply(list_matcher)\n"
     ]
    }
   ],
   "source": [
    "df['super_category'] = df['name_style'].apply(list_matcher)"
   ]
  },
  {
   "cell_type": "code",
   "execution_count": 50,
   "metadata": {},
   "outputs": [
    {
     "data": {
      "text/html": [
       "<div>\n",
       "<style scoped>\n",
       "    .dataframe tbody tr th:only-of-type {\n",
       "        vertical-align: middle;\n",
       "    }\n",
       "\n",
       "    .dataframe tbody tr th {\n",
       "        vertical-align: top;\n",
       "    }\n",
       "\n",
       "    .dataframe thead th {\n",
       "        text-align: right;\n",
       "    }\n",
       "</style>\n",
       "<table border=\"1\" class=\"dataframe\">\n",
       "  <thead>\n",
       "    <tr style=\"text-align: right;\">\n",
       "      <th></th>\n",
       "      <th>abv</th>\n",
       "      <th>ibu</th>\n",
       "      <th>id</th>\n",
       "      <th>name</th>\n",
       "      <th>style</th>\n",
       "      <th>brewery_id</th>\n",
       "      <th>ounces</th>\n",
       "      <th>name_style</th>\n",
       "      <th>super_category</th>\n",
       "    </tr>\n",
       "  </thead>\n",
       "  <tbody>\n",
       "    <tr>\n",
       "      <th>1670</th>\n",
       "      <td>0.069</td>\n",
       "      <td>17.0</td>\n",
       "      <td>1463</td>\n",
       "      <td>Hideout Helles</td>\n",
       "      <td>Munich Helles Lager</td>\n",
       "      <td>135</td>\n",
       "      <td>12.0</td>\n",
       "      <td>hideout hellesmunich helles lager</td>\n",
       "      <td>lager</td>\n",
       "    </tr>\n",
       "    <tr>\n",
       "      <th>2314</th>\n",
       "      <td>0.075</td>\n",
       "      <td>31.0</td>\n",
       "      <td>1730</td>\n",
       "      <td>Wynona's Big Brown Ale</td>\n",
       "      <td>American Brown Ale</td>\n",
       "      <td>322</td>\n",
       "      <td>12.0</td>\n",
       "      <td>wynona's big brown aleamerican brown ale</td>\n",
       "      <td>ale</td>\n",
       "    </tr>\n",
       "    <tr>\n",
       "      <th>765</th>\n",
       "      <td>0.054</td>\n",
       "      <td>48.0</td>\n",
       "      <td>1967</td>\n",
       "      <td>General George Patton Pilsner</td>\n",
       "      <td>Czech Pilsener</td>\n",
       "      <td>26</td>\n",
       "      <td>16.0</td>\n",
       "      <td>general george patton pilsnerczech pilsener</td>\n",
       "      <td>lager</td>\n",
       "    </tr>\n",
       "    <tr>\n",
       "      <th>1837</th>\n",
       "      <td>0.070</td>\n",
       "      <td>68.0</td>\n",
       "      <td>1765</td>\n",
       "      <td>Golden Ratio IPA</td>\n",
       "      <td>American IPA</td>\n",
       "      <td>183</td>\n",
       "      <td>16.0</td>\n",
       "      <td>golden ratio ipaamerican ipa</td>\n",
       "      <td>ale</td>\n",
       "    </tr>\n",
       "    <tr>\n",
       "      <th>1440</th>\n",
       "      <td>0.057</td>\n",
       "      <td>29.0</td>\n",
       "      <td>1145</td>\n",
       "      <td>Cardinal Pale Ale</td>\n",
       "      <td>American Pale Ale (APA)</td>\n",
       "      <td>337</td>\n",
       "      <td>12.0</td>\n",
       "      <td>cardinal pale aleamerican pale ale (apa)</td>\n",
       "      <td>ale</td>\n",
       "    </tr>\n",
       "    <tr>\n",
       "      <th>366</th>\n",
       "      <td>0.049</td>\n",
       "      <td>35.0</td>\n",
       "      <td>81</td>\n",
       "      <td>Hazed &amp; Infused (2010)</td>\n",
       "      <td>American Pale Ale (APA)</td>\n",
       "      <td>417</td>\n",
       "      <td>12.0</td>\n",
       "      <td>hazed &amp; infused (2010)american pale ale (apa)</td>\n",
       "      <td>ale</td>\n",
       "    </tr>\n",
       "    <tr>\n",
       "      <th>1836</th>\n",
       "      <td>0.060</td>\n",
       "      <td>53.0</td>\n",
       "      <td>1766</td>\n",
       "      <td>Humulus Nimbus Super Pale Ale</td>\n",
       "      <td>American Pale Ale (APA)</td>\n",
       "      <td>183</td>\n",
       "      <td>16.0</td>\n",
       "      <td>humulus nimbus super pale aleamerican pale ale...</td>\n",
       "      <td>ale</td>\n",
       "    </tr>\n",
       "    <tr>\n",
       "      <th>151</th>\n",
       "      <td>0.055</td>\n",
       "      <td>12.0</td>\n",
       "      <td>2502</td>\n",
       "      <td>Vanilla Java Porter</td>\n",
       "      <td>American Porter</td>\n",
       "      <td>72</td>\n",
       "      <td>16.0</td>\n",
       "      <td>vanilla java porteramerican porter</td>\n",
       "      <td>ale</td>\n",
       "    </tr>\n",
       "    <tr>\n",
       "      <th>254</th>\n",
       "      <td>0.050</td>\n",
       "      <td>35.0</td>\n",
       "      <td>1712</td>\n",
       "      <td>Montana Trout Slayer Ale</td>\n",
       "      <td>American Pale Wheat Ale</td>\n",
       "      <td>336</td>\n",
       "      <td>12.0</td>\n",
       "      <td>montana trout slayer aleamerican pale wheat ale</td>\n",
       "      <td>ale</td>\n",
       "    </tr>\n",
       "    <tr>\n",
       "      <th>479</th>\n",
       "      <td>0.099</td>\n",
       "      <td>115.0</td>\n",
       "      <td>2471</td>\n",
       "      <td>Hopkick Dropkick</td>\n",
       "      <td>American Double / Imperial IPA</td>\n",
       "      <td>24</td>\n",
       "      <td>12.0</td>\n",
       "      <td>hopkick dropkickamerican double / imperial ipa</td>\n",
       "      <td>ale</td>\n",
       "    </tr>\n",
       "  </tbody>\n",
       "</table>\n",
       "</div>"
      ],
      "text/plain": [
       "        abv  ...  super_category\n",
       "1670  0.069  ...           lager\n",
       "2314  0.075  ...             ale\n",
       "765   0.054  ...           lager\n",
       "1837  0.070  ...             ale\n",
       "1440  0.057  ...             ale\n",
       "366   0.049  ...             ale\n",
       "1836  0.060  ...             ale\n",
       "151   0.055  ...             ale\n",
       "254   0.050  ...             ale\n",
       "479   0.099  ...             ale\n",
       "\n",
       "[10 rows x 9 columns]"
      ]
     },
     "execution_count": 50,
     "metadata": {},
     "output_type": "execute_result"
    }
   ],
   "source": [
    "df.sample(10)"
   ]
  },
  {
   "cell_type": "markdown",
   "metadata": {},
   "source": [
    "Manually Fix Some Beers"
   ]
  },
  {
   "cell_type": "code",
   "execution_count": 51,
   "metadata": {},
   "outputs": [],
   "source": [
    "df.at[2078,'super_category']='lager'\n",
    "df.at[65,'super_category']='lager'"
   ]
  },
  {
   "cell_type": "code",
   "execution_count": 63,
   "metadata": {},
   "outputs": [
    {
     "name": "stderr",
     "output_type": "stream",
     "text": [
      "<ipython-input-63-b885d85661db>:1: SettingWithCopyWarning: \n",
      "A value is trying to be set on a copy of a slice from a DataFrame.\n",
      "Try using .loc[row_indexer,col_indexer] = value instead\n",
      "\n",
      "See the caveats in the documentation: https://pandas.pydata.org/pandas-docs/stable/user_guide/indexing.html#returning-a-view-versus-a-copy\n",
      "  df['type'] = df.super_category.map({'ale':0, 'lager':1})\n"
     ]
    }
   ],
   "source": [
    "df['type'] = df.super_category.map({'ale':0, 'lager':1})"
   ]
  },
  {
   "cell_type": "code",
   "execution_count": 64,
   "metadata": {},
   "outputs": [
    {
     "name": "stdout",
     "output_type": "stream",
     "text": [
      "<class 'pandas.core.frame.DataFrame'>\n",
      "Int64Index: 1435 entries, 0 to 2408\n",
      "Data columns (total 10 columns):\n",
      " #   Column          Non-Null Count  Dtype  \n",
      "---  ------          --------------  -----  \n",
      " 0   abv             1435 non-null   float64\n",
      " 1   ibu             1435 non-null   float64\n",
      " 2   id              1435 non-null   int64  \n",
      " 3   name            1435 non-null   object \n",
      " 4   style           1435 non-null   object \n",
      " 5   brewery_id      1435 non-null   int64  \n",
      " 6   ounces          1435 non-null   float64\n",
      " 7   name_style      1435 non-null   object \n",
      " 8   super_category  1405 non-null   object \n",
      " 9   type            1405 non-null   float64\n",
      "dtypes: float64(4), int64(2), object(4)\n",
      "memory usage: 163.3+ KB\n"
     ]
    }
   ],
   "source": [
    "df.info()"
   ]
  },
  {
   "cell_type": "markdown",
   "metadata": {},
   "source": [
    "# Add Remaining Beers to New DataFrame"
   ]
  },
  {
   "cell_type": "code",
   "execution_count": 65,
   "metadata": {},
   "outputs": [],
   "source": [
    "craftbeers = df[df['super_category'].notnull()]"
   ]
  },
  {
   "cell_type": "markdown",
   "metadata": {},
   "source": [
    "# Summary Statistics"
   ]
  },
  {
   "cell_type": "code",
   "execution_count": 73,
   "metadata": {},
   "outputs": [
    {
     "data": {
      "text/html": [
       "<div>\n",
       "<style scoped>\n",
       "    .dataframe tbody tr th:only-of-type {\n",
       "        vertical-align: middle;\n",
       "    }\n",
       "\n",
       "    .dataframe tbody tr th {\n",
       "        vertical-align: top;\n",
       "    }\n",
       "\n",
       "    .dataframe thead th {\n",
       "        text-align: right;\n",
       "    }\n",
       "</style>\n",
       "<table border=\"1\" class=\"dataframe\">\n",
       "  <thead>\n",
       "    <tr style=\"text-align: right;\">\n",
       "      <th></th>\n",
       "      <th>abv</th>\n",
       "      <th>ibu</th>\n",
       "      <th>id</th>\n",
       "      <th>brewery_id</th>\n",
       "      <th>ounces</th>\n",
       "      <th>type</th>\n",
       "    </tr>\n",
       "  </thead>\n",
       "  <tbody>\n",
       "    <tr>\n",
       "      <th>count</th>\n",
       "      <td>1405.000000</td>\n",
       "      <td>1405.000000</td>\n",
       "      <td>1405.000000</td>\n",
       "      <td>1405.000000</td>\n",
       "      <td>1405.000000</td>\n",
       "      <td>1405.000000</td>\n",
       "    </tr>\n",
       "    <tr>\n",
       "      <th>mean</th>\n",
       "      <td>0.059871</td>\n",
       "      <td>42.804270</td>\n",
       "      <td>1409.680427</td>\n",
       "      <td>224.447687</td>\n",
       "      <td>13.499573</td>\n",
       "      <td>0.125979</td>\n",
       "    </tr>\n",
       "    <tr>\n",
       "      <th>std</th>\n",
       "      <td>0.013554</td>\n",
       "      <td>25.879861</td>\n",
       "      <td>757.740529</td>\n",
       "      <td>150.622236</td>\n",
       "      <td>2.251343</td>\n",
       "      <td>0.331943</td>\n",
       "    </tr>\n",
       "    <tr>\n",
       "      <th>min</th>\n",
       "      <td>0.028000</td>\n",
       "      <td>4.000000</td>\n",
       "      <td>1.000000</td>\n",
       "      <td>0.000000</td>\n",
       "      <td>8.400000</td>\n",
       "      <td>0.000000</td>\n",
       "    </tr>\n",
       "    <tr>\n",
       "      <th>25%</th>\n",
       "      <td>0.050000</td>\n",
       "      <td>21.000000</td>\n",
       "      <td>765.000000</td>\n",
       "      <td>98.000000</td>\n",
       "      <td>12.000000</td>\n",
       "      <td>0.000000</td>\n",
       "    </tr>\n",
       "    <tr>\n",
       "      <th>50%</th>\n",
       "      <td>0.057000</td>\n",
       "      <td>35.000000</td>\n",
       "      <td>1418.000000</td>\n",
       "      <td>198.000000</td>\n",
       "      <td>12.000000</td>\n",
       "      <td>0.000000</td>\n",
       "    </tr>\n",
       "    <tr>\n",
       "      <th>75%</th>\n",
       "      <td>0.068000</td>\n",
       "      <td>64.000000</td>\n",
       "      <td>2069.000000</td>\n",
       "      <td>355.000000</td>\n",
       "      <td>16.000000</td>\n",
       "      <td>0.000000</td>\n",
       "    </tr>\n",
       "    <tr>\n",
       "      <th>max</th>\n",
       "      <td>0.125000</td>\n",
       "      <td>138.000000</td>\n",
       "      <td>2692.000000</td>\n",
       "      <td>546.000000</td>\n",
       "      <td>32.000000</td>\n",
       "      <td>1.000000</td>\n",
       "    </tr>\n",
       "  </tbody>\n",
       "</table>\n",
       "</div>"
      ],
      "text/plain": [
       "               abv          ibu  ...       ounces         type\n",
       "count  1405.000000  1405.000000  ...  1405.000000  1405.000000\n",
       "mean      0.059871    42.804270  ...    13.499573     0.125979\n",
       "std       0.013554    25.879861  ...     2.251343     0.331943\n",
       "min       0.028000     4.000000  ...     8.400000     0.000000\n",
       "25%       0.050000    21.000000  ...    12.000000     0.000000\n",
       "50%       0.057000    35.000000  ...    12.000000     0.000000\n",
       "75%       0.068000    64.000000  ...    16.000000     0.000000\n",
       "max       0.125000   138.000000  ...    32.000000     1.000000\n",
       "\n",
       "[8 rows x 6 columns]"
      ]
     },
     "execution_count": 73,
     "metadata": {},
     "output_type": "execute_result"
    }
   ],
   "source": [
    "craftbeers.describe()"
   ]
  },
  {
   "cell_type": "code",
   "execution_count": 85,
   "metadata": {},
   "outputs": [
    {
     "data": {
      "text/html": [
       "<div>\n",
       "<style scoped>\n",
       "    .dataframe tbody tr th:only-of-type {\n",
       "        vertical-align: middle;\n",
       "    }\n",
       "\n",
       "    .dataframe tbody tr th {\n",
       "        vertical-align: top;\n",
       "    }\n",
       "\n",
       "    .dataframe thead th {\n",
       "        text-align: right;\n",
       "    }\n",
       "</style>\n",
       "<table border=\"1\" class=\"dataframe\">\n",
       "  <thead>\n",
       "    <tr style=\"text-align: right;\">\n",
       "      <th></th>\n",
       "      <th>abv</th>\n",
       "      <th>ibu</th>\n",
       "      <th>id</th>\n",
       "      <th>brewery_id</th>\n",
       "      <th>ounces</th>\n",
       "      <th>type</th>\n",
       "    </tr>\n",
       "  </thead>\n",
       "  <tbody>\n",
       "    <tr>\n",
       "      <th>abv</th>\n",
       "      <td>1.000000</td>\n",
       "      <td>0.673899</td>\n",
       "      <td>-0.009708</td>\n",
       "      <td>-0.022408</td>\n",
       "      <td>0.111587</td>\n",
       "      <td>-0.257753</td>\n",
       "    </tr>\n",
       "    <tr>\n",
       "      <th>ibu</th>\n",
       "      <td>0.673899</td>\n",
       "      <td>1.000000</td>\n",
       "      <td>0.006348</td>\n",
       "      <td>-0.010846</td>\n",
       "      <td>0.057444</td>\n",
       "      <td>-0.268243</td>\n",
       "    </tr>\n",
       "    <tr>\n",
       "      <th>id</th>\n",
       "      <td>-0.009708</td>\n",
       "      <td>0.006348</td>\n",
       "      <td>1.000000</td>\n",
       "      <td>-0.428695</td>\n",
       "      <td>0.053110</td>\n",
       "      <td>-0.034633</td>\n",
       "    </tr>\n",
       "    <tr>\n",
       "      <th>brewery_id</th>\n",
       "      <td>-0.022408</td>\n",
       "      <td>-0.010846</td>\n",
       "      <td>-0.428695</td>\n",
       "      <td>1.000000</td>\n",
       "      <td>-0.130123</td>\n",
       "      <td>0.006934</td>\n",
       "    </tr>\n",
       "    <tr>\n",
       "      <th>ounces</th>\n",
       "      <td>0.111587</td>\n",
       "      <td>0.057444</td>\n",
       "      <td>0.053110</td>\n",
       "      <td>-0.130123</td>\n",
       "      <td>1.000000</td>\n",
       "      <td>-0.055492</td>\n",
       "    </tr>\n",
       "    <tr>\n",
       "      <th>type</th>\n",
       "      <td>-0.257753</td>\n",
       "      <td>-0.268243</td>\n",
       "      <td>-0.034633</td>\n",
       "      <td>0.006934</td>\n",
       "      <td>-0.055492</td>\n",
       "      <td>1.000000</td>\n",
       "    </tr>\n",
       "  </tbody>\n",
       "</table>\n",
       "</div>"
      ],
      "text/plain": [
       "                 abv       ibu        id  brewery_id    ounces      type\n",
       "abv         1.000000  0.673899 -0.009708   -0.022408  0.111587 -0.257753\n",
       "ibu         0.673899  1.000000  0.006348   -0.010846  0.057444 -0.268243\n",
       "id         -0.009708  0.006348  1.000000   -0.428695  0.053110 -0.034633\n",
       "brewery_id -0.022408 -0.010846 -0.428695    1.000000 -0.130123  0.006934\n",
       "ounces      0.111587  0.057444  0.053110   -0.130123  1.000000 -0.055492\n",
       "type       -0.257753 -0.268243 -0.034633    0.006934 -0.055492  1.000000"
      ]
     },
     "execution_count": 85,
     "metadata": {},
     "output_type": "execute_result"
    }
   ],
   "source": [
    "craftbeers.corr()"
   ]
  },
  {
   "cell_type": "code",
   "execution_count": 110,
   "metadata": {},
   "outputs": [
    {
     "data": {
      "text/plain": [
       "ale      0.874021\n",
       "lager    0.125979\n",
       "Name: super_category, dtype: float64"
      ]
     },
     "execution_count": 110,
     "metadata": {},
     "output_type": "execute_result"
    }
   ],
   "source": [
    "craftbeers.super_category.value_counts(normalize=True)"
   ]
  },
  {
   "cell_type": "markdown",
   "metadata": {},
   "source": [
    "\n",
    "# Plotting Data"
   ]
  },
  {
   "cell_type": "code",
   "execution_count": 91,
   "metadata": {},
   "outputs": [],
   "source": [
    "feature_cols = ['abv','ibu']\n",
    "X = df[feature_cols]\n",
    "y = df['type']"
   ]
  },
  {
   "cell_type": "code",
   "execution_count": 66,
   "metadata": {},
   "outputs": [
    {
     "data": {
      "text/plain": [
       "<AxesSubplot:>"
      ]
     },
     "execution_count": 66,
     "metadata": {},
     "output_type": "execute_result"
    },
    {
     "data": {
      "image/png": "[encoded data removed]",
      "text/plain": [
       "<Figure size 432x288 with 1 Axes>"
      ]
     },
     "metadata": {
      "needs_background": "light"
     },
     "output_type": "display_data"
    }
   ],
   "source": [
    "craftbeers['abv'].hist()"
   ]
  },
  {
   "cell_type": "code",
   "execution_count": 67,
   "metadata": {},
   "outputs": [
    {
     "data": {
      "text/plain": [
       "<AxesSubplot:>"
      ]
     },
     "execution_count": 67,
     "metadata": {},
     "output_type": "execute_result"
    },
    {
     "data": {
      "image/png": "[encoded data removed]",
      "text/plain": [
       "<Figure size 432x288 with 1 Axes>"
      ]
     },
     "metadata": {
      "needs_background": "light"
     },
     "output_type": "display_data"
    }
   ],
   "source": [
    "craftbeers['ibu'].hist()"
   ]
  },
  {
   "cell_type": "markdown",
   "metadata": {},
   "source": []
  },
  {
   "cell_type": "code",
   "execution_count": 103,
   "metadata": {},
   "outputs": [
    {
     "data": {
      "image/png": "[encoded data removed]",
      "text/plain": [
       "<Figure size 720x720 with 4 Axes>"
      ]
     },
     "metadata": {
      "needs_background": "light"
     },
     "output_type": "display_data"
    }
   ],
   "source": [
    "pd.plotting.scatter_matrix(X, c=y, figsize=(10,10), s=100);"
   ]
  },
  {
   "cell_type": "code",
   "execution_count": 104,
   "metadata": {},
   "outputs": [
    {
     "data": {
      "image/png": "[encoded data removed]",
      "text/plain": [
       "<Figure size 432x288 with 2 Axes>"
      ]
     },
     "metadata": {
      "needs_background": "light"
     },
     "output_type": "display_data"
    }
   ],
   "source": [
    "cmap_bold = ListedColormap(['#FF0000','#0000FF'])\n",
    "craftbeers.plot(kind='scatter', x='abv', y='ibu', c='type', colormap=cmap_bold);"
   ]
  },
  {
   "cell_type": "markdown",
   "metadata": {},
   "source": [
    "# Export to CSV"
   ]
  },
  {
   "cell_type": "code",
   "execution_count": 105,
   "metadata": {},
   "outputs": [],
   "source": [
    "craftbeers.to_csv('craftbeers.csv',index=True)"
   ]
  },
  {
   "cell_type": "code",
   "execution_count": null,
   "metadata": {},
   "outputs": [],
   "source": []
  }
 ],
 "metadata": {
  "kernelspec": {
   "display_name": "Python 3",
   "language": "python",
   "name": "python3"
  },
  "language_info": {
   "codemirror_mode": {
    "name": "ipython",
    "version": 3
   },
   "file_extension": ".py",
   "mimetype": "text/x-python",
   "name": "python",
   "nbconvert_exporter": "python",
   "pygments_lexer": "ipython3",
   "version": "3.8.5"
  }
 },
 "nbformat": 4,
 "nbformat_minor": 4
}
