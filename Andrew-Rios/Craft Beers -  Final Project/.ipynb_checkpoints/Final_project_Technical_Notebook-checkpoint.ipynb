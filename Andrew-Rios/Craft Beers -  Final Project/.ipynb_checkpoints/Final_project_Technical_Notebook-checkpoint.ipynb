{
 "cells": [
  {
   "cell_type": "markdown",
   "metadata": {},
   "source": [
    "# IMPORTS"
   ]
  },
  {
   "cell_type": "code",
   "execution_count": 2,
   "metadata": {},
   "outputs": [],
   "source": [
    "import pandas as pd\n",
    "from sklearn.neighbors import KNeighborsClassifier\n",
    "from sklearn.model_selection import train_test_split\n",
    "from sklearn import metrics\n",
    "from sklearn import model_selection\n",
    "from sklearn.model_selection import cross_val_score\n",
    "from sklearn.linear_model import LogisticRegression\n",
    "from sklearn.model_selection import train_test_split\n",
    "from sklearn.preprocessing import StandardScaler\n",
    "from sklearn.metrics import accuracy_score, confusion_matrix,roc_curve, roc_auc_score, precision_score, recall_score, precision_recall_curve\n",
    "import imblearn\n",
    "from imblearn.over_sampling import SMOTE\n"
   ]
  },
  {
   "cell_type": "markdown",
   "metadata": {},
   "source": [
    "# Read in CSV"
   ]
  },
  {
   "cell_type": "code",
   "execution_count": 5,
   "metadata": {},
   "outputs": [],
   "source": [
    "df = pd.read_csv('craftbeers.csv', index_col=0)"
   ]
  },
  {
   "cell_type": "code",
   "execution_count": 7,
   "metadata": {},
   "outputs": [
    {
     "data": {
      "text/html": [
       "<div>\n",
       "<style scoped>\n",
       "    .dataframe tbody tr th:only-of-type {\n",
       "        vertical-align: middle;\n",
       "    }\n",
       "\n",
       "    .dataframe tbody tr th {\n",
       "        vertical-align: top;\n",
       "    }\n",
       "\n",
       "    .dataframe thead th {\n",
       "        text-align: right;\n",
       "    }\n",
       "</style>\n",
       "<table border=\"1\" class=\"dataframe\">\n",
       "  <thead>\n",
       "    <tr style=\"text-align: right;\">\n",
       "      <th></th>\n",
       "      <th>abv</th>\n",
       "      <th>ibu</th>\n",
       "      <th>id</th>\n",
       "      <th>name</th>\n",
       "      <th>style</th>\n",
       "      <th>brewery_id</th>\n",
       "      <th>ounces</th>\n",
       "      <th>name_style</th>\n",
       "      <th>super_category</th>\n",
       "      <th>type</th>\n",
       "    </tr>\n",
       "  </thead>\n",
       "  <tbody>\n",
       "    <tr>\n",
       "      <th>1196</th>\n",
       "      <td>0.048</td>\n",
       "      <td>9.0</td>\n",
       "      <td>1397</td>\n",
       "      <td>Two-One Niner</td>\n",
       "      <td>American Pilsner</td>\n",
       "      <td>218</td>\n",
       "      <td>12.0</td>\n",
       "      <td>two-one nineramerican pilsner</td>\n",
       "      <td>lager</td>\n",
       "      <td>1.0</td>\n",
       "    </tr>\n",
       "    <tr>\n",
       "      <th>2101</th>\n",
       "      <td>0.050</td>\n",
       "      <td>19.0</td>\n",
       "      <td>362</td>\n",
       "      <td>Blacktop Blonde</td>\n",
       "      <td>American Blonde Ale</td>\n",
       "      <td>449</td>\n",
       "      <td>12.0</td>\n",
       "      <td>blacktop blondeamerican blonde ale</td>\n",
       "      <td>ale</td>\n",
       "      <td>0.0</td>\n",
       "    </tr>\n",
       "    <tr>\n",
       "      <th>1012</th>\n",
       "      <td>0.052</td>\n",
       "      <td>18.0</td>\n",
       "      <td>1361</td>\n",
       "      <td>Half Full Bright Ale</td>\n",
       "      <td>American Blonde Ale</td>\n",
       "      <td>248</td>\n",
       "      <td>12.0</td>\n",
       "      <td>half full bright aleamerican blonde ale</td>\n",
       "      <td>ale</td>\n",
       "      <td>0.0</td>\n",
       "    </tr>\n",
       "    <tr>\n",
       "      <th>1426</th>\n",
       "      <td>0.042</td>\n",
       "      <td>24.0</td>\n",
       "      <td>403</td>\n",
       "      <td>Narragansett Summer Ale</td>\n",
       "      <td>American Pale Wheat Ale</td>\n",
       "      <td>143</td>\n",
       "      <td>16.0</td>\n",
       "      <td>narragansett summer aleamerican pale wheat ale</td>\n",
       "      <td>ale</td>\n",
       "      <td>0.0</td>\n",
       "    </tr>\n",
       "    <tr>\n",
       "      <th>130</th>\n",
       "      <td>0.060</td>\n",
       "      <td>23.0</td>\n",
       "      <td>2509</td>\n",
       "      <td>Porter (a/k/a Black Gold Porter)</td>\n",
       "      <td>American Porter</td>\n",
       "      <td>69</td>\n",
       "      <td>16.0</td>\n",
       "      <td>porter (a/k/a black gold porter)american porter</td>\n",
       "      <td>ale</td>\n",
       "      <td>0.0</td>\n",
       "    </tr>\n",
       "    <tr>\n",
       "      <th>1078</th>\n",
       "      <td>0.039</td>\n",
       "      <td>20.0</td>\n",
       "      <td>2397</td>\n",
       "      <td>Nonstop Hef Hop</td>\n",
       "      <td>American Pale Wheat Ale</td>\n",
       "      <td>80</td>\n",
       "      <td>16.0</td>\n",
       "      <td>nonstop hef hopamerican pale wheat ale</td>\n",
       "      <td>ale</td>\n",
       "      <td>0.0</td>\n",
       "    </tr>\n",
       "    <tr>\n",
       "      <th>1918</th>\n",
       "      <td>0.050</td>\n",
       "      <td>18.0</td>\n",
       "      <td>406</td>\n",
       "      <td>Snake River Lager</td>\n",
       "      <td>Vienna Lager</td>\n",
       "      <td>191</td>\n",
       "      <td>12.0</td>\n",
       "      <td>snake river lagervienna lager</td>\n",
       "      <td>lager</td>\n",
       "      <td>1.0</td>\n",
       "    </tr>\n",
       "    <tr>\n",
       "      <th>67</th>\n",
       "      <td>0.082</td>\n",
       "      <td>68.0</td>\n",
       "      <td>2540</td>\n",
       "      <td>Citra Ass Down</td>\n",
       "      <td>American IPA</td>\n",
       "      <td>62</td>\n",
       "      <td>16.0</td>\n",
       "      <td>citra ass downamerican ipa</td>\n",
       "      <td>ale</td>\n",
       "      <td>0.0</td>\n",
       "    </tr>\n",
       "    <tr>\n",
       "      <th>903</th>\n",
       "      <td>0.059</td>\n",
       "      <td>60.0</td>\n",
       "      <td>549</td>\n",
       "      <td>Point the Way IPA (2012)</td>\n",
       "      <td>American IPA</td>\n",
       "      <td>240</td>\n",
       "      <td>16.0</td>\n",
       "      <td>point the way ipa (2012)american ipa</td>\n",
       "      <td>ale</td>\n",
       "      <td>0.0</td>\n",
       "    </tr>\n",
       "    <tr>\n",
       "      <th>1359</th>\n",
       "      <td>0.048</td>\n",
       "      <td>18.0</td>\n",
       "      <td>172</td>\n",
       "      <td>Flaming Damsel Lager (2010)</td>\n",
       "      <td>Vienna Lager</td>\n",
       "      <td>284</td>\n",
       "      <td>16.0</td>\n",
       "      <td>flaming damsel lager (2010)vienna lager</td>\n",
       "      <td>lager</td>\n",
       "      <td>1.0</td>\n",
       "    </tr>\n",
       "  </tbody>\n",
       "</table>\n",
       "</div>"
      ],
      "text/plain": [
       "        abv   ibu    id                              name  \\\n",
       "1196  0.048   9.0  1397                     Two-One Niner   \n",
       "2101  0.050  19.0   362                   Blacktop Blonde   \n",
       "1012  0.052  18.0  1361              Half Full Bright Ale   \n",
       "1426  0.042  24.0   403           Narragansett Summer Ale   \n",
       "130   0.060  23.0  2509  Porter (a/k/a Black Gold Porter)   \n",
       "1078  0.039  20.0  2397                   Nonstop Hef Hop   \n",
       "1918  0.050  18.0   406                 Snake River Lager   \n",
       "67    0.082  68.0  2540                    Citra Ass Down   \n",
       "903   0.059  60.0   549          Point the Way IPA (2012)   \n",
       "1359  0.048  18.0   172       Flaming Damsel Lager (2010)   \n",
       "\n",
       "                        style  brewery_id  ounces  \\\n",
       "1196         American Pilsner         218    12.0   \n",
       "2101      American Blonde Ale         449    12.0   \n",
       "1012      American Blonde Ale         248    12.0   \n",
       "1426  American Pale Wheat Ale         143    16.0   \n",
       "130           American Porter          69    16.0   \n",
       "1078  American Pale Wheat Ale          80    16.0   \n",
       "1918             Vienna Lager         191    12.0   \n",
       "67               American IPA          62    16.0   \n",
       "903              American IPA         240    16.0   \n",
       "1359             Vienna Lager         284    16.0   \n",
       "\n",
       "                                           name_style super_category  type  \n",
       "1196                    two-one nineramerican pilsner          lager   1.0  \n",
       "2101               blacktop blondeamerican blonde ale            ale   0.0  \n",
       "1012          half full bright aleamerican blonde ale            ale   0.0  \n",
       "1426   narragansett summer aleamerican pale wheat ale            ale   0.0  \n",
       "130   porter (a/k/a black gold porter)american porter            ale   0.0  \n",
       "1078           nonstop hef hopamerican pale wheat ale            ale   0.0  \n",
       "1918                    snake river lagervienna lager          lager   1.0  \n",
       "67                         citra ass downamerican ipa            ale   0.0  \n",
       "903              point the way ipa (2012)american ipa            ale   0.0  \n",
       "1359          flaming damsel lager (2010)vienna lager          lager   1.0  "
      ]
     },
     "execution_count": 7,
     "metadata": {},
     "output_type": "execute_result"
    }
   ],
   "source": [
    "df.sample(10)"
   ]
  },
  {
   "cell_type": "markdown",
   "metadata": {},
   "source": [
    "# Setup Features"
   ]
  },
  {
   "cell_type": "code",
   "execution_count": 9,
   "metadata": {},
   "outputs": [],
   "source": [
    "#make abv & ibu my features, and my target is beer type\n",
    "feature_cols = ['abv','ibu']\n",
    "X = df[feature_cols]\n",
    "y = df['type']"
   ]
  },
  {
   "cell_type": "code",
   "execution_count": 33,
   "metadata": {},
   "outputs": [],
   "source": [
    "#check my majority class"
   ]
  },
  {
   "cell_type": "code",
   "execution_count": 13,
   "metadata": {},
   "outputs": [
    {
     "data": {
      "text/plain": [
       "0.0    0.874021\n",
       "1.0    0.125979\n",
       "Name: type, dtype: float64"
      ]
     },
     "execution_count": 13,
     "metadata": {},
     "output_type": "execute_result"
    }
   ],
   "source": [
    "y.value_counts(normalize=True)"
   ]
  },
  {
   "cell_type": "markdown",
   "metadata": {},
   "source": [
    "# Train / Test Split"
   ]
  },
  {
   "cell_type": "code",
   "execution_count": 15,
   "metadata": {},
   "outputs": [],
   "source": [
    "#using stratify & scaler "
   ]
  },
  {
   "cell_type": "code",
   "execution_count": 17,
   "metadata": {},
   "outputs": [],
   "source": [
    "X_train, X_test, y_train, y_test = train_test_split(X, y, random_state=1,stratify=y)\n",
    "\n",
    "#scaling features\n",
    "scaler = StandardScaler()\n",
    "X_train = scaler.fit_transform(X_train)\n",
    "X_test = scaler.transform(X_test)"
   ]
  },
  {
   "cell_type": "code",
   "execution_count": 19,
   "metadata": {},
   "outputs": [],
   "source": [
    "#checking class imbalance after the train test split"
   ]
  },
  {
   "cell_type": "code",
   "execution_count": 20,
   "metadata": {},
   "outputs": [
    {
     "data": {
      "text/plain": [
       "0.0    0.873694\n",
       "1.0    0.126306\n",
       "Name: type, dtype: float64"
      ]
     },
     "execution_count": 20,
     "metadata": {},
     "output_type": "execute_result"
    }
   ],
   "source": [
    "y_train.value_counts(normalize=True)"
   ]
  },
  {
   "cell_type": "markdown",
   "metadata": {},
   "source": [
    "# RUN KNN"
   ]
  },
  {
   "cell_type": "code",
   "execution_count": 29,
   "metadata": {},
   "outputs": [],
   "source": [
    "knn = KNeighborsClassifier(n_neighbors=3)"
   ]
  },
  {
   "cell_type": "code",
   "execution_count": 30,
   "metadata": {},
   "outputs": [
    {
     "data": {
      "text/plain": [
       "KNeighborsClassifier(n_neighbors=3)"
      ]
     },
     "execution_count": 30,
     "metadata": {},
     "output_type": "execute_result"
    }
   ],
   "source": [
    "knn.fit(X_train, y_train)"
   ]
  },
  {
   "cell_type": "code",
   "execution_count": 31,
   "metadata": {},
   "outputs": [],
   "source": [
    "knn_pred = knn.predict(X_test)"
   ]
  },
  {
   "cell_type": "code",
   "execution_count": 32,
   "metadata": {},
   "outputs": [
    {
     "name": "stdout",
     "output_type": "stream",
     "text": [
      "0.8636363636363636\n"
     ]
    }
   ],
   "source": [
    "print((metrics.accuracy_score(y_test, knn_pred)))"
   ]
  },
  {
   "cell_type": "markdown",
   "metadata": {},
   "source": [
    "# Elbow Method"
   ]
  },
  {
   "cell_type": "code",
   "execution_count": 25,
   "metadata": {},
   "outputs": [
    {
     "data": {
      "image/png": "[encoded data removed]",
      "text/plain": [
       "<Figure size 432x288 with 1 Axes>"
      ]
     },
     "metadata": {
      "needs_background": "light"
     },
     "output_type": "display_data"
    }
   ],
   "source": [
    "scores = []\n",
    "for k in range(1,100):\n",
    "    knn = KNeighborsClassifier(n_neighbors=k)\n",
    "    knn.fit(X_train,y_train)\n",
    "    pred = knn.predict(X_test)\n",
    "    score = float(sum(pred == y_test)) / len(y_test)\n",
    "    scores.append([k, score])\n",
    "    \n",
    "data = pd.DataFrame(scores,columns=['k','score'])\n",
    "data.plot.line(x='k',y='score');"
   ]
  },
  {
   "cell_type": "code",
   "execution_count": 26,
   "metadata": {},
   "outputs": [
    {
     "data": {
      "text/html": [
       "<div>\n",
       "<style scoped>\n",
       "    .dataframe tbody tr th:only-of-type {\n",
       "        vertical-align: middle;\n",
       "    }\n",
       "\n",
       "    .dataframe tbody tr th {\n",
       "        vertical-align: top;\n",
       "    }\n",
       "\n",
       "    .dataframe thead th {\n",
       "        text-align: right;\n",
       "    }\n",
       "</style>\n",
       "<table border=\"1\" class=\"dataframe\">\n",
       "  <thead>\n",
       "    <tr style=\"text-align: right;\">\n",
       "      <th></th>\n",
       "      <th>k</th>\n",
       "      <th>score</th>\n",
       "    </tr>\n",
       "  </thead>\n",
       "  <tbody>\n",
       "    <tr>\n",
       "      <th>0</th>\n",
       "      <td>1</td>\n",
       "      <td>0.832386</td>\n",
       "    </tr>\n",
       "    <tr>\n",
       "      <th>1</th>\n",
       "      <td>2</td>\n",
       "      <td>0.877841</td>\n",
       "    </tr>\n",
       "    <tr>\n",
       "      <th>2</th>\n",
       "      <td>3</td>\n",
       "      <td>0.863636</td>\n",
       "    </tr>\n",
       "    <tr>\n",
       "      <th>3</th>\n",
       "      <td>4</td>\n",
       "      <td>0.875000</td>\n",
       "    </tr>\n",
       "    <tr>\n",
       "      <th>4</th>\n",
       "      <td>5</td>\n",
       "      <td>0.872159</td>\n",
       "    </tr>\n",
       "    <tr>\n",
       "      <th>5</th>\n",
       "      <td>6</td>\n",
       "      <td>0.892045</td>\n",
       "    </tr>\n",
       "    <tr>\n",
       "      <th>6</th>\n",
       "      <td>7</td>\n",
       "      <td>0.883523</td>\n",
       "    </tr>\n",
       "    <tr>\n",
       "      <th>7</th>\n",
       "      <td>8</td>\n",
       "      <td>0.889205</td>\n",
       "    </tr>\n",
       "    <tr>\n",
       "      <th>8</th>\n",
       "      <td>9</td>\n",
       "      <td>0.886364</td>\n",
       "    </tr>\n",
       "    <tr>\n",
       "      <th>9</th>\n",
       "      <td>10</td>\n",
       "      <td>0.883523</td>\n",
       "    </tr>\n",
       "  </tbody>\n",
       "</table>\n",
       "</div>"
      ],
      "text/plain": [
       "    k     score\n",
       "0   1  0.832386\n",
       "1   2  0.877841\n",
       "2   3  0.863636\n",
       "3   4  0.875000\n",
       "4   5  0.872159\n",
       "5   6  0.892045\n",
       "6   7  0.883523\n",
       "7   8  0.889205\n",
       "8   9  0.886364\n",
       "9  10  0.883523"
      ]
     },
     "execution_count": 26,
     "metadata": {},
     "output_type": "execute_result"
    }
   ],
   "source": [
    "data.head(10)"
   ]
  },
  {
   "cell_type": "code",
   "execution_count": null,
   "metadata": {},
   "outputs": [],
   "source": []
  },
  {
   "cell_type": "code",
   "execution_count": null,
   "metadata": {},
   "outputs": [],
   "source": []
  },
  {
   "cell_type": "code",
   "execution_count": null,
   "metadata": {},
   "outputs": [],
   "source": []
  }
 ],
 "metadata": {
  "kernelspec": {
   "display_name": "Python 3",
   "language": "python",
   "name": "python3"
  },
  "language_info": {
   "codemirror_mode": {
    "name": "ipython",
    "version": 3
   },
   "file_extension": ".py",
   "mimetype": "text/x-python",
   "name": "python",
   "nbconvert_exporter": "python",
   "pygments_lexer": "ipython3",
   "version": "3.8.5"
  }
 },
 "nbformat": 4,
 "nbformat_minor": 4
}
