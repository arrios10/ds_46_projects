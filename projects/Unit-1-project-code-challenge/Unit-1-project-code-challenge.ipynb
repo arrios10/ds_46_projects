{
 "cells": [
  {
   "cell_type": "markdown",
   "metadata": {},
   "source": [
    "<img src=\"http://imgur.com/1ZcRyrc.png\" style=\"float: left; margin: 20px; height: 55px\">\n",
    "\n",
    "# Project 1: Python Coding Exercises\n",
    "\n",
    "_Authors: Joseph Nelson (DC) _\n",
    "\n",
    "---"
   ]
  },
  {
   "cell_type": "markdown",
   "metadata": {},
   "source": [
    "The following code challenges are drawn from common exercises used in technical interviews.\n",
    "\n",
    "Please note that there may be several ways to approach each challenge. If you get stuck, try mapping out your approach in pseudocode first. Finally, while solutions to problems like these may be found online, remember that if you copy/paste code that you can't explain, you'll be missing out on the point of the project. The only way to truly learn a new skill is through practice, trial, and error - we can only help you improve by understanding where you are having trouble."
   ]
  },
  {
   "cell_type": "markdown",
   "metadata": {},
   "source": [
    "### Challenge 1: Largest Palindrome\n",
    "A palindromic number reads the same both ways. For example, 1234321 is a palindrome. The largest palindrome made from the product of two two-digit numbers is 9009 = 91 × 99. Find the largest palindrome made from the product of two three-digit numbers. Afterward, write a brief explanation walking through your code's logic in markdown."
   ]
  },
  {
   "cell_type": "code",
   "execution_count": 1,
   "metadata": {},
   "outputs": [
    {
     "name": "stdout",
     "output_type": "stream",
     "text": [
      "The largest palindrome made from the product of two three-digit numbers is: 906609\n"
     ]
    }
   ],
   "source": [
    "largest_palindrome = 0\n",
    "#takes a number and returns true if palindrome\n",
    "def is_pal(product):\n",
    "    product_text = str(product)\n",
    "    if product_text == product_text[::-1]:\n",
    "        return True\n",
    "        \n",
    "#multiply numbers\n",
    "for num1 in range(100,999):\n",
    "    for num2 in range(100,999):\n",
    "        product = num1 * num2\n",
    "        #check for palindrome\n",
    "        if is_pal(product):\n",
    "            #check to see if the current product is larger than the current value of largest_palindrome\n",
    "            if product > largest_palindrome:\n",
    "                #assigns the current product to the variable largest_palindrome\n",
    "                largest_palindrome = product\n",
    "\n",
    "print(\"The largest palindrome made from the product of two three-digit numbers is:\", largest_palindrome)"
   ]
  },
  {
   "cell_type": "markdown",
   "metadata": {},
   "source": [
    "I wrote a function to check for palindromes by comparing the text to the reverse text, and return true if it is one. then i used for loops to get all the products of all the 3 digit numbers, and if statement calling the is_pal function. and another 'if' to check to see if the current palindrome was larger than the previous largest palindrome. printed the final value of largest_palindrome."
   ]
  },
  {
   "cell_type": "markdown",
   "metadata": {},
   "source": [
    "\n",
    "### Challenge 2: Summation of Primes\n",
    "The sum of the primes below 10 is 2 + 3 + 5 + 7 = 17. Find the sum of all the primes below 2,000. Afterward, write a brief explanation walking through your code's logic in markdown."
   ]
  },
  {
   "cell_type": "code",
   "execution_count": 13,
   "metadata": {},
   "outputs": [
    {
     "name": "stdout",
     "output_type": "stream",
     "text": [
      "The sum of all the primes below 2,000 is: 277050\n"
     ]
    }
   ],
   "source": [
    "mylist = list(range(2,2000))\n",
    "primes = []\n",
    "\n",
    "def is_prime(i):\n",
    "    for num in range(2,i):\n",
    "        if i % num == 0:\n",
    "            return False\n",
    "        \n",
    "    return True\n",
    "\n",
    "for x in mylist:\n",
    "    if is_prime(x):\n",
    "        #print(x,'prime')\n",
    "        primes.append(x)\n",
    "        \n",
    "print(\"The sum of all the primes below 2,000 is:\",sum(primes))"
   ]
  },
  {
   "cell_type": "markdown",
   "metadata": {},
   "source": [
    "not sure how well this works. i wrote a function to check to see if the number is prime and return true(if prime) or false. the prime function checks for zero remainders from 2 to n-1. then called it in a for loop that appeneded it to a list if it was in fact prime. used sum() to get total "
   ]
  },
  {
   "cell_type": "code",
   "execution_count": null,
   "metadata": {},
   "outputs": [],
   "source": []
  },
  {
   "cell_type": "markdown",
   "metadata": {},
   "source": [
    "### Challenge 3: Multiples of 3 and 5\n",
    "If we list all of the natural numbers below 10 that are multiples of 3 or 5, we get 3, 5, 6, and 9. The sum of these multiples is 23. Find the sum of all the multiples of 3 and 5 below 1,000. Afterward, write a brief explanation walking through your code's logic in markdown."
   ]
  },
  {
   "cell_type": "code",
   "execution_count": 19,
   "metadata": {},
   "outputs": [
    {
     "data": {
      "text/plain": [
       "233168"
      ]
     },
     "execution_count": 19,
     "metadata": {},
     "output_type": "execute_result"
    }
   ],
   "source": [
    "n = 1000\n",
    "three_list = list(range(3,n,3))\n",
    "multiples = three_list + list(range(5,n,5))\n",
    "sum(set(multiples))"
   ]
  },
  {
   "cell_type": "markdown",
   "metadata": {},
   "source": [
    "used range to make all the multiples of 3 to n in a list, then append all the 5s using range again. used set() to dedup and sum() to total."
   ]
  },
  {
   "cell_type": "code",
   "execution_count": null,
   "metadata": {},
   "outputs": [],
   "source": []
  },
  {
   "cell_type": "markdown",
   "metadata": {},
   "source": [
    "### Challenge 4: String Compressor\n",
    "Implement a method to perform basic string compression using the counts of repeated characters. (This is called run-length encoding.) For example, the string \"aabcccccaaa\" would become a2b1c5a3. If the “compressed” string would not become smaller than the original string, your method should return the original string. You can assume the string has only uppercase and lowercase letters (a–z). Specify whether your solution is case sensitive or case insensitive and what you would need to change to make it the other. Afterward, write a brief explanation walking through your code's logic in markdown."
   ]
  },
  {
   "cell_type": "code",
   "execution_count": 15,
   "metadata": {},
   "outputs": [],
   "source": [
    "def encoder(my_string):\n",
    "    \n",
    "    letter_counter = 0\n",
    "    index = 0\n",
    "    new_list = []\n",
    "    \n",
    "    previous_letter = ''\n",
    "\n",
    "    for letter in my_string: \n",
    "        if not new_list:\n",
    "            new_list.append(letter)\n",
    "            previous_letter = letter\n",
    "            continue\n",
    "            #print(len(new_list))\n",
    "        \n",
    "        if letter != previous_letter:\n",
    "            #print('hello')\n",
    "            letter_counter += 1\n",
    "            previous_letter = letter\n",
    "            new_list.append(letter_counter)\n",
    "            new_list.append(letter)\n",
    "            letter_counter = 0\n",
    "            \n",
    "        else: \n",
    "            previous_letter = letter\n",
    "            letter_counter += 1\n",
    "    \n",
    "    letter_counter += 1\n",
    "    new_list.append(letter_counter)\n",
    "\n",
    "    return new_list\n"
   ]
  },
  {
   "cell_type": "code",
   "execution_count": 16,
   "metadata": {},
   "outputs": [
    {
     "data": {
      "text/plain": [
       "'a2b1c5a3'"
      ]
     },
     "execution_count": 16,
     "metadata": {},
     "output_type": "execute_result"
    }
   ],
   "source": [
    "my_string = \"aabcccccaaa\"\n",
    "\n",
    "\n",
    "\n",
    "def string_compressor(my_string ):\n",
    "    encoded_string = \"\"\"\"\"\"\n",
    "    for c in encoder(my_string):\n",
    "        encoded_string += str(c)\n",
    "\n",
    "    if len(encoded_string) > len(my_string):\n",
    "        return my_string\n",
    "    else:\n",
    "        return encoded_string\n",
    "\n",
    "string_compressor(my_string )"
   ]
  },
  {
   "cell_type": "markdown",
   "metadata": {},
   "source": [
    "not sure i understood this one. first wrote a function to encode the string. i probably didnt need to convert to lists, but no time to fix. if the current letter and the previous letter matched, id increment the count, otherwise id append the number to the list and reset the counter to zero. then wrote the main fucntion to call the encoder and check to see which one was longer. "
   ]
  },
  {
   "cell_type": "markdown",
   "metadata": {},
   "source": [
    "### *BONUS* Challenge: FizzBuzz\n",
    "Write a program that prints all of the numbers from 1 to 100. For multiples of 3, instead of the number, print \"Fizz;\" for multiples of 5, print \"Buzz.\" For numbers that are multiples of both 3 and 5, print \"FizzBuzz.\" Afterward, write a brief explanation walking through your code's logic in markdown."
   ]
  },
  {
   "cell_type": "code",
   "execution_count": 12,
   "metadata": {},
   "outputs": [
    {
     "name": "stdout",
     "output_type": "stream",
     "text": [
      "1\n",
      "2\n",
      "Fizz\n",
      "4\n",
      "Buzz\n",
      "Fizz\n",
      "7\n",
      "8\n",
      "Fizz\n",
      "Buzz\n",
      "11\n",
      "Fizz\n",
      "13\n",
      "14\n",
      "Fizzbuzz\n",
      "16\n",
      "17\n",
      "Fizz\n",
      "19\n",
      "Buzz\n",
      "Fizz\n",
      "22\n",
      "23\n",
      "Fizz\n",
      "Buzz\n",
      "26\n",
      "Fizz\n",
      "28\n",
      "29\n",
      "Fizzbuzz\n",
      "31\n",
      "32\n",
      "Fizz\n",
      "34\n",
      "Buzz\n",
      "Fizz\n",
      "37\n",
      "38\n",
      "Fizz\n",
      "Buzz\n",
      "41\n",
      "Fizz\n",
      "43\n",
      "44\n",
      "Fizzbuzz\n",
      "46\n",
      "47\n",
      "Fizz\n",
      "49\n",
      "Buzz\n",
      "Fizz\n",
      "52\n",
      "53\n",
      "Fizz\n",
      "Buzz\n",
      "56\n",
      "Fizz\n",
      "58\n",
      "59\n",
      "Fizzbuzz\n",
      "61\n",
      "62\n",
      "Fizz\n",
      "64\n",
      "Buzz\n",
      "Fizz\n",
      "67\n",
      "68\n",
      "Fizz\n",
      "Buzz\n",
      "71\n",
      "Fizz\n",
      "73\n",
      "74\n",
      "Fizzbuzz\n",
      "76\n",
      "77\n",
      "Fizz\n",
      "79\n",
      "Buzz\n",
      "Fizz\n",
      "82\n",
      "83\n",
      "Fizz\n",
      "Buzz\n",
      "86\n",
      "Fizz\n",
      "88\n",
      "89\n",
      "Fizzbuzz\n",
      "91\n",
      "92\n",
      "Fizz\n",
      "94\n",
      "Buzz\n",
      "Fizz\n",
      "97\n",
      "98\n",
      "Fizz\n"
     ]
    }
   ],
   "source": [
    "def fizz_buzz(n):\n",
    "    for num in range(1,n):\n",
    "            if num % 3 == 0 and num % 5 == 0:\n",
    "                print('Fizzbuzz')\n",
    "            elif num % 3 == 0:\n",
    "                print('Fizz')\n",
    "\n",
    "            elif num % 5 == 0:\n",
    "                print('Buzz')\n",
    "            else:\n",
    "                print(num)\n",
    "fizz_buzz(100)"
   ]
  },
  {
   "cell_type": "markdown",
   "metadata": {},
   "source": [
    "looped through a range up to n and check for zero remainder with 3 or 5 or both and printed the appropriate word. otherwise it printed the number. "
   ]
  },
  {
   "cell_type": "code",
   "execution_count": null,
   "metadata": {},
   "outputs": [],
   "source": []
  },
  {
   "cell_type": "code",
   "execution_count": null,
   "metadata": {},
   "outputs": [],
   "source": []
  }
 ],
 "metadata": {
  "anaconda-cloud": {},
  "kernelspec": {
   "display_name": "Python 3",
   "language": "python",
   "name": "python3"
  },
  "language_info": {
   "codemirror_mode": {
    "name": "ipython",
    "version": 3
   },
   "file_extension": ".py",
   "mimetype": "text/x-python",
   "name": "python",
   "nbconvert_exporter": "python",
   "pygments_lexer": "ipython3",
   "version": "3.8.5"
  }
 },
 "nbformat": 4,
 "nbformat_minor": 2
}
